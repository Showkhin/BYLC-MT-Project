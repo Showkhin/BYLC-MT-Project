{
 "cells": [
  {
   "cell_type": "code",
   "execution_count": 44,
   "id": "fc166412",
   "metadata": {},
   "outputs": [],
   "source": [
    "import pandas as pd\n",
    "import numpy as np\n",
    "import seaborn as sns\n",
    "import matplotlib.pyplot as plt\n",
    "import sklearn \n",
    "from sklearn.model_selection import train_test_split"
   ]
  },
  {
   "cell_type": "code",
   "execution_count": 45,
   "id": "25d78108",
   "metadata": {},
   "outputs": [
    {
     "data": {
      "text/html": [
       "<div>\n",
       "<style scoped>\n",
       "    .dataframe tbody tr th:only-of-type {\n",
       "        vertical-align: middle;\n",
       "    }\n",
       "\n",
       "    .dataframe tbody tr th {\n",
       "        vertical-align: top;\n",
       "    }\n",
       "\n",
       "    .dataframe thead th {\n",
       "        text-align: right;\n",
       "    }\n",
       "</style>\n",
       "<table border=\"1\" class=\"dataframe\">\n",
       "  <thead>\n",
       "    <tr style=\"text-align: right;\">\n",
       "      <th></th>\n",
       "      <th>Timestamp</th>\n",
       "      <th>Email Address</th>\n",
       "      <th>Your current status :</th>\n",
       "      <th>Your Educational background</th>\n",
       "      <th>Your Gender</th>\n",
       "      <th>Your age group</th>\n",
       "      <th>Are you familiar with the term \"Medical Transcription\"?</th>\n",
       "      <th>If yes, how do you know about Medical Transcription?</th>\n",
       "      <th>Have you ever taken any sort of medical transcription services?</th>\n",
       "      <th>If yes, kindly share your experience with us</th>\n",
       "      <th>Would you like to avail Medical Transcription services if and when necessary?</th>\n",
       "      <th>If you answered \"No\" to the previous question, please explain why. Otherwise write \"N/A\"</th>\n",
       "      <th>Do you think Medical Transcription services will help the doctors and the healthcare sector of our country?</th>\n",
       "      <th>Would you take Medical Transcription as a Career opportunity?</th>\n",
       "      <th>Please justify your previous answer, why you would or would not consider joining the MT industry</th>\n",
       "      <th>If you would like to join the MT industry, which shift would you like to work in</th>\n",
       "      <th>Can you give us a suggestion on how to establish or improve the MT industry in Bangladesh?</th>\n",
       "    </tr>\n",
       "  </thead>\n",
       "  <tbody>\n",
       "    <tr>\n",
       "      <th>0</th>\n",
       "      <td>2021-09-01 00:17:28.858</td>\n",
       "      <td>NaN</td>\n",
       "      <td>No</td>\n",
       "      <td>BBA</td>\n",
       "      <td>NaN</td>\n",
       "      <td>NaN</td>\n",
       "      <td>Yes</td>\n",
       "      <td>NaN</td>\n",
       "      <td>NaN</td>\n",
       "      <td>NaN</td>\n",
       "      <td>Yes</td>\n",
       "      <td>NaN</td>\n",
       "      <td>Yes</td>\n",
       "      <td>NaN</td>\n",
       "      <td>NaN</td>\n",
       "      <td>NaN</td>\n",
       "      <td>NaN</td>\n",
       "    </tr>\n",
       "    <tr>\n",
       "      <th>1</th>\n",
       "      <td>2021-09-01 22:00:34.245</td>\n",
       "      <td>NaN</td>\n",
       "      <td>Student</td>\n",
       "      <td>CSE</td>\n",
       "      <td>Male</td>\n",
       "      <td>18 to 25</td>\n",
       "      <td>Yes</td>\n",
       "      <td>From this survey</td>\n",
       "      <td>No</td>\n",
       "      <td>Yes, it's extremely useful</td>\n",
       "      <td>Yes</td>\n",
       "      <td>NaN</td>\n",
       "      <td>Yes</td>\n",
       "      <td>Yes</td>\n",
       "      <td>.....</td>\n",
       "      <td>Day</td>\n",
       "      <td>...</td>\n",
       "    </tr>\n",
       "    <tr>\n",
       "      <th>2</th>\n",
       "      <td>2021-09-01 23:11:18.767</td>\n",
       "      <td>18201011@uap-bd.edu</td>\n",
       "      <td>Student</td>\n",
       "      <td>CSE</td>\n",
       "      <td>Female</td>\n",
       "      <td>18 to 25</td>\n",
       "      <td>Yes</td>\n",
       "      <td>Social Media</td>\n",
       "      <td>No</td>\n",
       "      <td>No, I have not</td>\n",
       "      <td>Yes</td>\n",
       "      <td>.</td>\n",
       "      <td>Yes</td>\n",
       "      <td>Maybe</td>\n",
       "      <td>.</td>\n",
       "      <td>Day</td>\n",
       "      <td>NaN</td>\n",
       "    </tr>\n",
       "    <tr>\n",
       "      <th>3</th>\n",
       "      <td>2021-09-01 23:12:28.831</td>\n",
       "      <td>18201055@uap-bd.edu</td>\n",
       "      <td>Student</td>\n",
       "      <td>CSE</td>\n",
       "      <td>Male</td>\n",
       "      <td>18 to 25</td>\n",
       "      <td>Yes</td>\n",
       "      <td>From this survey</td>\n",
       "      <td>No</td>\n",
       "      <td>No, I have not</td>\n",
       "      <td>Yes</td>\n",
       "      <td>Answered Yes</td>\n",
       "      <td>Yes</td>\n",
       "      <td>Yes</td>\n",
       "      <td>can be both in health-care industry and IT ind...</td>\n",
       "      <td>Day</td>\n",
       "      <td>NaN</td>\n",
       "    </tr>\n",
       "    <tr>\n",
       "      <th>4</th>\n",
       "      <td>2021-09-01 23:21:20.024</td>\n",
       "      <td>aminoor075@gmail.com</td>\n",
       "      <td>Student</td>\n",
       "      <td>BBA</td>\n",
       "      <td>Male</td>\n",
       "      <td>Under 18</td>\n",
       "      <td>No</td>\n",
       "      <td>Social Media</td>\n",
       "      <td>Yes</td>\n",
       "      <td>No, I have not</td>\n",
       "      <td>No</td>\n",
       "      <td>Because i want to provide service.</td>\n",
       "      <td>Maybe</td>\n",
       "      <td>No</td>\n",
       "      <td>Because i am dedicated enough to take proper R...</td>\n",
       "      <td>Night</td>\n",
       "      <td>By giving chance to the youth.</td>\n",
       "    </tr>\n",
       "    <tr>\n",
       "      <th>...</th>\n",
       "      <td>...</td>\n",
       "      <td>...</td>\n",
       "      <td>...</td>\n",
       "      <td>...</td>\n",
       "      <td>...</td>\n",
       "      <td>...</td>\n",
       "      <td>...</td>\n",
       "      <td>...</td>\n",
       "      <td>...</td>\n",
       "      <td>...</td>\n",
       "      <td>...</td>\n",
       "      <td>...</td>\n",
       "      <td>...</td>\n",
       "      <td>...</td>\n",
       "      <td>...</td>\n",
       "      <td>...</td>\n",
       "      <td>...</td>\n",
       "    </tr>\n",
       "    <tr>\n",
       "      <th>101</th>\n",
       "      <td>2021-09-03 08:42:51.507</td>\n",
       "      <td>loveraj.sybr@gmail.com</td>\n",
       "      <td>Job seeker</td>\n",
       "      <td>Engineering</td>\n",
       "      <td>Male</td>\n",
       "      <td>25 to 35</td>\n",
       "      <td>Yes</td>\n",
       "      <td>BDJobs Job Listing</td>\n",
       "      <td>No</td>\n",
       "      <td>No, I have not</td>\n",
       "      <td>Maybe</td>\n",
       "      <td>NaN</td>\n",
       "      <td>Maybe</td>\n",
       "      <td>Maybe</td>\n",
       "      <td>.</td>\n",
       "      <td>Day</td>\n",
       "      <td>Fluidity and Synchroization between doctors an...</td>\n",
       "    </tr>\n",
       "    <tr>\n",
       "      <th>102</th>\n",
       "      <td>2021-09-03 10:59:22.409</td>\n",
       "      <td>hasanujjamanrabby000@gmail.com</td>\n",
       "      <td>Student</td>\n",
       "      <td>BBA</td>\n",
       "      <td>Male</td>\n",
       "      <td>18 to 25</td>\n",
       "      <td>No</td>\n",
       "      <td>From this survey</td>\n",
       "      <td>No</td>\n",
       "      <td>No, I have not</td>\n",
       "      <td>Yes</td>\n",
       "      <td>NaN</td>\n",
       "      <td>Yes</td>\n",
       "      <td>No</td>\n",
       "      <td>Don't like pursuing any medical related career</td>\n",
       "      <td>Day</td>\n",
       "      <td>No idea</td>\n",
       "    </tr>\n",
       "    <tr>\n",
       "      <th>103</th>\n",
       "      <td>2021-09-03 11:01:47.162</td>\n",
       "      <td>samiulislammazumder69@gmail.com</td>\n",
       "      <td>Job seeker</td>\n",
       "      <td>BBA</td>\n",
       "      <td>Male</td>\n",
       "      <td>18 to 25</td>\n",
       "      <td>Maybe</td>\n",
       "      <td>Social Media</td>\n",
       "      <td>No</td>\n",
       "      <td>No, I have not</td>\n",
       "      <td>Yes</td>\n",
       "      <td>NaN</td>\n",
       "      <td>Yes</td>\n",
       "      <td>Maybe</td>\n",
       "      <td>It has a growing potential and is useful in sa...</td>\n",
       "      <td>Day</td>\n",
       "      <td>Try to integrate existing top medical practiti...</td>\n",
       "    </tr>\n",
       "    <tr>\n",
       "      <th>104</th>\n",
       "      <td>2021-09-03 11:37:15.787</td>\n",
       "      <td>foysalpurbo@gmail.com</td>\n",
       "      <td>Job holder</td>\n",
       "      <td>MSS</td>\n",
       "      <td>Male</td>\n",
       "      <td>25 to 35</td>\n",
       "      <td>Yes</td>\n",
       "      <td>Internet/Website</td>\n",
       "      <td>No</td>\n",
       "      <td>No, I have not</td>\n",
       "      <td>Yes</td>\n",
       "      <td>NaN</td>\n",
       "      <td>Yes</td>\n",
       "      <td>No</td>\n",
       "      <td>I am happy with my current job sector</td>\n",
       "      <td>Day</td>\n",
       "      <td>NaN</td>\n",
       "    </tr>\n",
       "    <tr>\n",
       "      <th>105</th>\n",
       "      <td>2021-09-03 11:48:55.016</td>\n",
       "      <td>rafiar420@gmail.com</td>\n",
       "      <td>Student</td>\n",
       "      <td>SSC</td>\n",
       "      <td>Male</td>\n",
       "      <td>18 to 25</td>\n",
       "      <td>No</td>\n",
       "      <td>From this survey</td>\n",
       "      <td>No</td>\n",
       "      <td>No, I have not</td>\n",
       "      <td>No</td>\n",
       "      <td>I don't know what Medical Transcription is.</td>\n",
       "      <td>Yes</td>\n",
       "      <td>Yes</td>\n",
       "      <td>Money of course</td>\n",
       "      <td>Day</td>\n",
       "      <td>I have no idea</td>\n",
       "    </tr>\n",
       "  </tbody>\n",
       "</table>\n",
       "<p>106 rows × 17 columns</p>\n",
       "</div>"
      ],
      "text/plain": [
       "                  Timestamp                    Email Address  \\\n",
       "0   2021-09-01 00:17:28.858                              NaN   \n",
       "1   2021-09-01 22:00:34.245                              NaN   \n",
       "2   2021-09-01 23:11:18.767              18201011@uap-bd.edu   \n",
       "3   2021-09-01 23:12:28.831              18201055@uap-bd.edu   \n",
       "4   2021-09-01 23:21:20.024             aminoor075@gmail.com   \n",
       "..                      ...                              ...   \n",
       "101 2021-09-03 08:42:51.507           loveraj.sybr@gmail.com   \n",
       "102 2021-09-03 10:59:22.409   hasanujjamanrabby000@gmail.com   \n",
       "103 2021-09-03 11:01:47.162  samiulislammazumder69@gmail.com   \n",
       "104 2021-09-03 11:37:15.787            foysalpurbo@gmail.com   \n",
       "105 2021-09-03 11:48:55.016              rafiar420@gmail.com   \n",
       "\n",
       "    Your current status : Your Educational background Your Gender  \\\n",
       "0                      No                         BBA         NaN   \n",
       "1                 Student                         CSE        Male   \n",
       "2                 Student                         CSE      Female   \n",
       "3                 Student                         CSE        Male   \n",
       "4                 Student                         BBA        Male   \n",
       "..                    ...                         ...         ...   \n",
       "101            Job seeker                 Engineering        Male   \n",
       "102               Student                         BBA        Male   \n",
       "103            Job seeker                         BBA        Male   \n",
       "104            Job holder                         MSS        Male   \n",
       "105               Student                         SSC        Male   \n",
       "\n",
       "    Your age group Are you familiar with the term \"Medical Transcription\"?  \\\n",
       "0              NaN                                                Yes        \n",
       "1         18 to 25                                                Yes        \n",
       "2         18 to 25                                                Yes        \n",
       "3         18 to 25                                                Yes        \n",
       "4         Under 18                                                 No        \n",
       "..             ...                                                ...        \n",
       "101       25 to 35                                                Yes        \n",
       "102       18 to 25                                                 No        \n",
       "103       18 to 25                                              Maybe        \n",
       "104       25 to 35                                                Yes        \n",
       "105       18 to 25                                                 No        \n",
       "\n",
       "    If yes, how do you know about Medical Transcription?  \\\n",
       "0                                                  NaN     \n",
       "1                                     From this survey     \n",
       "2                                         Social Media     \n",
       "3                                     From this survey     \n",
       "4                                         Social Media     \n",
       "..                                                 ...     \n",
       "101                                 BDJobs Job Listing     \n",
       "102                                   From this survey     \n",
       "103                                       Social Media     \n",
       "104                                   Internet/Website     \n",
       "105                                   From this survey     \n",
       "\n",
       "    Have you ever taken any sort of medical transcription services?  \\\n",
       "0                                                  NaN                \n",
       "1                                                   No                \n",
       "2                                                   No                \n",
       "3                                                   No                \n",
       "4                                                  Yes                \n",
       "..                                                 ...                \n",
       "101                                                 No                \n",
       "102                                                 No                \n",
       "103                                                 No                \n",
       "104                                                 No                \n",
       "105                                                 No                \n",
       "\n",
       "    If yes, kindly share your experience with us  \\\n",
       "0                                            NaN   \n",
       "1                     Yes, it's extremely useful   \n",
       "2                                 No, I have not   \n",
       "3                                 No, I have not   \n",
       "4                                 No, I have not   \n",
       "..                                           ...   \n",
       "101                               No, I have not   \n",
       "102                               No, I have not   \n",
       "103                               No, I have not   \n",
       "104                               No, I have not   \n",
       "105                               No, I have not   \n",
       "\n",
       "    Would you like to avail Medical Transcription services if and when necessary?  \\\n",
       "0                                                  Yes                              \n",
       "1                                                  Yes                              \n",
       "2                                                  Yes                              \n",
       "3                                                  Yes                              \n",
       "4                                                   No                              \n",
       "..                                                 ...                              \n",
       "101                                              Maybe                              \n",
       "102                                                Yes                              \n",
       "103                                                Yes                              \n",
       "104                                                Yes                              \n",
       "105                                                 No                              \n",
       "\n",
       "    If you answered \"No\" to the previous question, please explain why. Otherwise write \"N/A\"  \\\n",
       "0                                                  NaN                                         \n",
       "1                                                  NaN                                         \n",
       "2                                                    .                                         \n",
       "3                                         Answered Yes                                         \n",
       "4                   Because i want to provide service.                                         \n",
       "..                                                 ...                                         \n",
       "101                                                NaN                                         \n",
       "102                                                NaN                                         \n",
       "103                                                NaN                                         \n",
       "104                                                NaN                                         \n",
       "105        I don't know what Medical Transcription is.                                         \n",
       "\n",
       "    Do you think Medical Transcription services will help the doctors and the healthcare sector of our country?  \\\n",
       "0                                                  Yes                                                            \n",
       "1                                                  Yes                                                            \n",
       "2                                                  Yes                                                            \n",
       "3                                                  Yes                                                            \n",
       "4                                                Maybe                                                            \n",
       "..                                                 ...                                                            \n",
       "101                                              Maybe                                                            \n",
       "102                                                Yes                                                            \n",
       "103                                                Yes                                                            \n",
       "104                                                Yes                                                            \n",
       "105                                                Yes                                                            \n",
       "\n",
       "    Would you take Medical Transcription as a Career opportunity?  \\\n",
       "0                                                  NaN              \n",
       "1                                                  Yes              \n",
       "2                                                Maybe              \n",
       "3                                                  Yes              \n",
       "4                                                   No              \n",
       "..                                                 ...              \n",
       "101                                              Maybe              \n",
       "102                                                 No              \n",
       "103                                              Maybe              \n",
       "104                                                 No              \n",
       "105                                                Yes              \n",
       "\n",
       "    Please justify your previous answer, why you would or would not consider joining the MT industry  \\\n",
       "0                                                  NaN                                                 \n",
       "1                                                .....                                                 \n",
       "2                                                    .                                                 \n",
       "3    can be both in health-care industry and IT ind...                                                 \n",
       "4    Because i am dedicated enough to take proper R...                                                 \n",
       "..                                                 ...                                                 \n",
       "101                                                  .                                                 \n",
       "102     Don't like pursuing any medical related career                                                 \n",
       "103  It has a growing potential and is useful in sa...                                                 \n",
       "104              I am happy with my current job sector                                                 \n",
       "105                                    Money of course                                                 \n",
       "\n",
       "    If you would like to join the MT industry, which shift would you like to work in  \\\n",
       "0                                                  NaN                                 \n",
       "1                                                  Day                                 \n",
       "2                                                  Day                                 \n",
       "3                                                  Day                                 \n",
       "4                                                Night                                 \n",
       "..                                                 ...                                 \n",
       "101                                                Day                                 \n",
       "102                                                Day                                 \n",
       "103                                                Day                                 \n",
       "104                                                Day                                 \n",
       "105                                                Day                                 \n",
       "\n",
       "    Can you give us a suggestion on how to establish or improve the MT industry in Bangladesh?  \n",
       "0                                                  NaN                                          \n",
       "1                                                  ...                                          \n",
       "2                                                  NaN                                          \n",
       "3                                                  NaN                                          \n",
       "4                       By giving chance to the youth.                                          \n",
       "..                                                 ...                                          \n",
       "101  Fluidity and Synchroization between doctors an...                                          \n",
       "102                                            No idea                                          \n",
       "103  Try to integrate existing top medical practiti...                                          \n",
       "104                                                NaN                                          \n",
       "105                                     I have no idea                                          \n",
       "\n",
       "[106 rows x 17 columns]"
      ]
     },
     "execution_count": 45,
     "metadata": {},
     "output_type": "execute_result"
    }
   ],
   "source": [
    "df = pd.read_excel(r'C:\\Users\\User\\Desktop\\project for BYLC\\Data\\MT_data.xlsx')\n",
    "df"
   ]
  },
  {
   "cell_type": "code",
   "execution_count": 46,
   "id": "b4c412c1",
   "metadata": {},
   "outputs": [],
   "source": [
    "df.drop(df.columns[[0,1,3, 7, 9, 11, 14, 15]], axis=1, inplace=True)"
   ]
  },
  {
   "cell_type": "code",
   "execution_count": 47,
   "id": "6e0e401d",
   "metadata": {
    "scrolled": false
   },
   "outputs": [],
   "source": [
    "df.drop(df.index[0], inplace=True)"
   ]
  },
  {
   "cell_type": "code",
   "execution_count": 48,
   "id": "f0885c99",
   "metadata": {
    "scrolled": true
   },
   "outputs": [],
   "source": [
    "df.rename(columns = {'Your current status :':'Status','Your Educational background':'Background'\n",
    "                   ,'Your Gender':'Gender','Your age group':'Age' \n",
    "                    ,'Are you familiar with the term \"Medical Transcription\"?':'Familiarity'\n",
    "                    ,'Have you ever taken any sort of medical transcription services?':'Service taken'\n",
    "                    ,'Would you like to avail Medical Transcription services if and when necessary?':'Avail MT Service'\n",
    "                    ,'Do you think Medical Transcription services will help the doctors and the healthcare sector of our country?':'Impact On Doctor Healthcare'\n",
    "                    ,'Would you take Medical Transcription as a Career opportunity?':'MT Carrer Opportunity'\n",
    "                    ,'If you would like to join the MT industry, which shift would you like to work in':'Joining Shift'\n",
    "                    },inplace = True)\n"
   ]
  },
  {
   "cell_type": "code",
   "execution_count": 49,
   "id": "222b957a",
   "metadata": {
    "scrolled": false
   },
   "outputs": [],
   "source": [
    "df.drop(df.columns[[0,5,7,8]], axis=1, inplace=True)"
   ]
  },
  {
   "cell_type": "code",
   "execution_count": 50,
   "id": "88b9a9d7",
   "metadata": {},
   "outputs": [
    {
     "data": {
      "text/plain": [
       "array(['Yes', 'No', 'Maybe'], dtype=object)"
      ]
     },
     "execution_count": 50,
     "metadata": {},
     "output_type": "execute_result"
    }
   ],
   "source": [
    "df['Familiarity'].unique()"
   ]
  },
  {
   "cell_type": "code",
   "execution_count": 51,
   "id": "61c3fefd",
   "metadata": {
    "scrolled": true
   },
   "outputs": [
    {
     "data": {
      "text/html": [
       "<div>\n",
       "<style scoped>\n",
       "    .dataframe tbody tr th:only-of-type {\n",
       "        vertical-align: middle;\n",
       "    }\n",
       "\n",
       "    .dataframe tbody tr th {\n",
       "        vertical-align: top;\n",
       "    }\n",
       "\n",
       "    .dataframe thead th {\n",
       "        text-align: right;\n",
       "    }\n",
       "</style>\n",
       "<table border=\"1\" class=\"dataframe\">\n",
       "  <thead>\n",
       "    <tr style=\"text-align: right;\">\n",
       "      <th></th>\n",
       "      <th>Gender</th>\n",
       "      <th>Age</th>\n",
       "      <th>Familiarity</th>\n",
       "      <th>Service taken</th>\n",
       "      <th>Impact On Doctor Healthcare</th>\n",
       "    </tr>\n",
       "  </thead>\n",
       "  <tbody>\n",
       "    <tr>\n",
       "      <th>1</th>\n",
       "      <td>Male</td>\n",
       "      <td>18-25</td>\n",
       "      <td>Yes</td>\n",
       "      <td>No</td>\n",
       "      <td>Yes</td>\n",
       "    </tr>\n",
       "    <tr>\n",
       "      <th>2</th>\n",
       "      <td>Female</td>\n",
       "      <td>18-25</td>\n",
       "      <td>Yes</td>\n",
       "      <td>No</td>\n",
       "      <td>Yes</td>\n",
       "    </tr>\n",
       "    <tr>\n",
       "      <th>3</th>\n",
       "      <td>Male</td>\n",
       "      <td>18-25</td>\n",
       "      <td>Yes</td>\n",
       "      <td>No</td>\n",
       "      <td>Yes</td>\n",
       "    </tr>\n",
       "    <tr>\n",
       "      <th>4</th>\n",
       "      <td>Male</td>\n",
       "      <td>&lt;18</td>\n",
       "      <td>No</td>\n",
       "      <td>Yes</td>\n",
       "      <td>Maybe</td>\n",
       "    </tr>\n",
       "    <tr>\n",
       "      <th>5</th>\n",
       "      <td>Male</td>\n",
       "      <td>18-25</td>\n",
       "      <td>Yes</td>\n",
       "      <td>Yes</td>\n",
       "      <td>Yes</td>\n",
       "    </tr>\n",
       "    <tr>\n",
       "      <th>...</th>\n",
       "      <td>...</td>\n",
       "      <td>...</td>\n",
       "      <td>...</td>\n",
       "      <td>...</td>\n",
       "      <td>...</td>\n",
       "    </tr>\n",
       "    <tr>\n",
       "      <th>101</th>\n",
       "      <td>Male</td>\n",
       "      <td>25-35</td>\n",
       "      <td>Yes</td>\n",
       "      <td>No</td>\n",
       "      <td>Maybe</td>\n",
       "    </tr>\n",
       "    <tr>\n",
       "      <th>102</th>\n",
       "      <td>Male</td>\n",
       "      <td>18-25</td>\n",
       "      <td>No</td>\n",
       "      <td>No</td>\n",
       "      <td>Yes</td>\n",
       "    </tr>\n",
       "    <tr>\n",
       "      <th>103</th>\n",
       "      <td>Male</td>\n",
       "      <td>18-25</td>\n",
       "      <td>Somewhat</td>\n",
       "      <td>No</td>\n",
       "      <td>Yes</td>\n",
       "    </tr>\n",
       "    <tr>\n",
       "      <th>104</th>\n",
       "      <td>Male</td>\n",
       "      <td>25-35</td>\n",
       "      <td>Yes</td>\n",
       "      <td>No</td>\n",
       "      <td>Yes</td>\n",
       "    </tr>\n",
       "    <tr>\n",
       "      <th>105</th>\n",
       "      <td>Male</td>\n",
       "      <td>18-25</td>\n",
       "      <td>No</td>\n",
       "      <td>No</td>\n",
       "      <td>Yes</td>\n",
       "    </tr>\n",
       "  </tbody>\n",
       "</table>\n",
       "<p>105 rows × 5 columns</p>\n",
       "</div>"
      ],
      "text/plain": [
       "     Gender    Age Familiarity Service taken Impact On Doctor Healthcare\n",
       "1      Male  18-25         Yes            No                         Yes\n",
       "2    Female  18-25         Yes            No                         Yes\n",
       "3      Male  18-25         Yes            No                         Yes\n",
       "4      Male    <18          No           Yes                       Maybe\n",
       "5      Male  18-25         Yes           Yes                         Yes\n",
       "..      ...    ...         ...           ...                         ...\n",
       "101    Male  25-35         Yes            No                       Maybe\n",
       "102    Male  18-25          No            No                         Yes\n",
       "103    Male  18-25    Somewhat            No                         Yes\n",
       "104    Male  25-35         Yes            No                         Yes\n",
       "105    Male  18-25          No            No                         Yes\n",
       "\n",
       "[105 rows x 5 columns]"
      ]
     },
     "execution_count": 51,
     "metadata": {},
     "output_type": "execute_result"
    }
   ],
   "source": [
    "df['Age']=df['Age'].replace({'18 to 25':'18-25','Under 18':'<18','25 to 35':'25-35'})\n",
    "df['Familiarity']=df['Familiarity'].replace({'Maybe':'Somewhat'})\n",
    "df"
   ]
  },
  {
   "cell_type": "markdown",
   "id": "7cb0864c",
   "metadata": {},
   "source": [
    "## For AGE labelencoding"
   ]
  },
  {
   "cell_type": "code",
   "execution_count": 52,
   "id": "b2769a36",
   "metadata": {},
   "outputs": [],
   "source": [
    "df[\"Impact On Doctor Healthcare\"].replace({\"Maybe\": \"Yes\"}, inplace=True)\n",
    "df[\"Familiarity\"].replace({\"Somewhat\": \"Yes\"}, inplace=True)"
   ]
  },
  {
   "cell_type": "markdown",
   "id": "8a1329eb",
   "metadata": {},
   "source": [
    "## labelencoding part"
   ]
  },
  {
   "cell_type": "code",
   "execution_count": 53,
   "id": "3f1403c5",
   "metadata": {},
   "outputs": [],
   "source": [
    "X = df.iloc[:,:-2]\n",
    "y = df.iloc[:,3]\n",
    "z = df.iloc[:,4]"
   ]
  },
  {
   "cell_type": "code",
   "execution_count": 54,
   "id": "ef767130",
   "metadata": {},
   "outputs": [
    {
     "data": {
      "text/html": [
       "<div>\n",
       "<style scoped>\n",
       "    .dataframe tbody tr th:only-of-type {\n",
       "        vertical-align: middle;\n",
       "    }\n",
       "\n",
       "    .dataframe tbody tr th {\n",
       "        vertical-align: top;\n",
       "    }\n",
       "\n",
       "    .dataframe thead th {\n",
       "        text-align: right;\n",
       "    }\n",
       "</style>\n",
       "<table border=\"1\" class=\"dataframe\">\n",
       "  <thead>\n",
       "    <tr style=\"text-align: right;\">\n",
       "      <th></th>\n",
       "      <th>Gender</th>\n",
       "      <th>Age</th>\n",
       "      <th>Familiarity</th>\n",
       "    </tr>\n",
       "  </thead>\n",
       "  <tbody>\n",
       "    <tr>\n",
       "      <th>1</th>\n",
       "      <td>Male</td>\n",
       "      <td>18-25</td>\n",
       "      <td>Yes</td>\n",
       "    </tr>\n",
       "    <tr>\n",
       "      <th>2</th>\n",
       "      <td>Female</td>\n",
       "      <td>18-25</td>\n",
       "      <td>Yes</td>\n",
       "    </tr>\n",
       "    <tr>\n",
       "      <th>3</th>\n",
       "      <td>Male</td>\n",
       "      <td>18-25</td>\n",
       "      <td>Yes</td>\n",
       "    </tr>\n",
       "    <tr>\n",
       "      <th>4</th>\n",
       "      <td>Male</td>\n",
       "      <td>&lt;18</td>\n",
       "      <td>No</td>\n",
       "    </tr>\n",
       "    <tr>\n",
       "      <th>5</th>\n",
       "      <td>Male</td>\n",
       "      <td>18-25</td>\n",
       "      <td>Yes</td>\n",
       "    </tr>\n",
       "    <tr>\n",
       "      <th>...</th>\n",
       "      <td>...</td>\n",
       "      <td>...</td>\n",
       "      <td>...</td>\n",
       "    </tr>\n",
       "    <tr>\n",
       "      <th>101</th>\n",
       "      <td>Male</td>\n",
       "      <td>25-35</td>\n",
       "      <td>Yes</td>\n",
       "    </tr>\n",
       "    <tr>\n",
       "      <th>102</th>\n",
       "      <td>Male</td>\n",
       "      <td>18-25</td>\n",
       "      <td>No</td>\n",
       "    </tr>\n",
       "    <tr>\n",
       "      <th>103</th>\n",
       "      <td>Male</td>\n",
       "      <td>18-25</td>\n",
       "      <td>Yes</td>\n",
       "    </tr>\n",
       "    <tr>\n",
       "      <th>104</th>\n",
       "      <td>Male</td>\n",
       "      <td>25-35</td>\n",
       "      <td>Yes</td>\n",
       "    </tr>\n",
       "    <tr>\n",
       "      <th>105</th>\n",
       "      <td>Male</td>\n",
       "      <td>18-25</td>\n",
       "      <td>No</td>\n",
       "    </tr>\n",
       "  </tbody>\n",
       "</table>\n",
       "<p>105 rows × 3 columns</p>\n",
       "</div>"
      ],
      "text/plain": [
       "     Gender    Age Familiarity\n",
       "1      Male  18-25         Yes\n",
       "2    Female  18-25         Yes\n",
       "3      Male  18-25         Yes\n",
       "4      Male    <18          No\n",
       "5      Male  18-25         Yes\n",
       "..      ...    ...         ...\n",
       "101    Male  25-35         Yes\n",
       "102    Male  18-25          No\n",
       "103    Male  18-25         Yes\n",
       "104    Male  25-35         Yes\n",
       "105    Male  18-25          No\n",
       "\n",
       "[105 rows x 3 columns]"
      ]
     },
     "execution_count": 54,
     "metadata": {},
     "output_type": "execute_result"
    }
   ],
   "source": [
    "X"
   ]
  },
  {
   "cell_type": "code",
   "execution_count": 55,
   "id": "a99fde15",
   "metadata": {},
   "outputs": [
    {
     "data": {
      "text/plain": [
       "1       No\n",
       "2       No\n",
       "3       No\n",
       "4      Yes\n",
       "5      Yes\n",
       "      ... \n",
       "101     No\n",
       "102     No\n",
       "103     No\n",
       "104     No\n",
       "105     No\n",
       "Name: Service taken, Length: 105, dtype: object"
      ]
     },
     "execution_count": 55,
     "metadata": {},
     "output_type": "execute_result"
    }
   ],
   "source": [
    "y"
   ]
  },
  {
   "cell_type": "code",
   "execution_count": 56,
   "id": "33ac263c",
   "metadata": {
    "scrolled": true
   },
   "outputs": [
    {
     "data": {
      "text/plain": [
       "1      Yes\n",
       "2      Yes\n",
       "3      Yes\n",
       "4      Yes\n",
       "5      Yes\n",
       "      ... \n",
       "101    Yes\n",
       "102    Yes\n",
       "103    Yes\n",
       "104    Yes\n",
       "105    Yes\n",
       "Name: Impact On Doctor Healthcare, Length: 105, dtype: object"
      ]
     },
     "execution_count": 56,
     "metadata": {},
     "output_type": "execute_result"
    }
   ],
   "source": [
    "z"
   ]
  },
  {
   "cell_type": "code",
   "execution_count": 57,
   "id": "57a6f168",
   "metadata": {},
   "outputs": [],
   "source": [
    "from sklearn.preprocessing import LabelEncoder"
   ]
  },
  {
   "cell_type": "code",
   "execution_count": 58,
   "id": "38cc7254",
   "metadata": {},
   "outputs": [],
   "source": [
    "le = LabelEncoder()"
   ]
  },
  {
   "cell_type": "code",
   "execution_count": 59,
   "id": "c337f839",
   "metadata": {},
   "outputs": [],
   "source": [
    "X = X.apply(LabelEncoder().fit_transform)"
   ]
  },
  {
   "cell_type": "code",
   "execution_count": 60,
   "id": "99af96d2",
   "metadata": {},
   "outputs": [
    {
     "data": {
      "text/html": [
       "<div>\n",
       "<style scoped>\n",
       "    .dataframe tbody tr th:only-of-type {\n",
       "        vertical-align: middle;\n",
       "    }\n",
       "\n",
       "    .dataframe tbody tr th {\n",
       "        vertical-align: top;\n",
       "    }\n",
       "\n",
       "    .dataframe thead th {\n",
       "        text-align: right;\n",
       "    }\n",
       "</style>\n",
       "<table border=\"1\" class=\"dataframe\">\n",
       "  <thead>\n",
       "    <tr style=\"text-align: right;\">\n",
       "      <th></th>\n",
       "      <th>Gender</th>\n",
       "      <th>Age</th>\n",
       "      <th>Familiarity</th>\n",
       "    </tr>\n",
       "  </thead>\n",
       "  <tbody>\n",
       "    <tr>\n",
       "      <th>1</th>\n",
       "      <td>1</td>\n",
       "      <td>0</td>\n",
       "      <td>1</td>\n",
       "    </tr>\n",
       "    <tr>\n",
       "      <th>2</th>\n",
       "      <td>0</td>\n",
       "      <td>0</td>\n",
       "      <td>1</td>\n",
       "    </tr>\n",
       "    <tr>\n",
       "      <th>3</th>\n",
       "      <td>1</td>\n",
       "      <td>0</td>\n",
       "      <td>1</td>\n",
       "    </tr>\n",
       "    <tr>\n",
       "      <th>4</th>\n",
       "      <td>1</td>\n",
       "      <td>2</td>\n",
       "      <td>0</td>\n",
       "    </tr>\n",
       "    <tr>\n",
       "      <th>5</th>\n",
       "      <td>1</td>\n",
       "      <td>0</td>\n",
       "      <td>1</td>\n",
       "    </tr>\n",
       "    <tr>\n",
       "      <th>...</th>\n",
       "      <td>...</td>\n",
       "      <td>...</td>\n",
       "      <td>...</td>\n",
       "    </tr>\n",
       "    <tr>\n",
       "      <th>101</th>\n",
       "      <td>1</td>\n",
       "      <td>1</td>\n",
       "      <td>1</td>\n",
       "    </tr>\n",
       "    <tr>\n",
       "      <th>102</th>\n",
       "      <td>1</td>\n",
       "      <td>0</td>\n",
       "      <td>0</td>\n",
       "    </tr>\n",
       "    <tr>\n",
       "      <th>103</th>\n",
       "      <td>1</td>\n",
       "      <td>0</td>\n",
       "      <td>1</td>\n",
       "    </tr>\n",
       "    <tr>\n",
       "      <th>104</th>\n",
       "      <td>1</td>\n",
       "      <td>1</td>\n",
       "      <td>1</td>\n",
       "    </tr>\n",
       "    <tr>\n",
       "      <th>105</th>\n",
       "      <td>1</td>\n",
       "      <td>0</td>\n",
       "      <td>0</td>\n",
       "    </tr>\n",
       "  </tbody>\n",
       "</table>\n",
       "<p>105 rows × 3 columns</p>\n",
       "</div>"
      ],
      "text/plain": [
       "     Gender  Age  Familiarity\n",
       "1         1    0            1\n",
       "2         0    0            1\n",
       "3         1    0            1\n",
       "4         1    2            0\n",
       "5         1    0            1\n",
       "..      ...  ...          ...\n",
       "101       1    1            1\n",
       "102       1    0            0\n",
       "103       1    0            1\n",
       "104       1    1            1\n",
       "105       1    0            0\n",
       "\n",
       "[105 rows x 3 columns]"
      ]
     },
     "execution_count": 60,
     "metadata": {},
     "output_type": "execute_result"
    }
   ],
   "source": [
    "X"
   ]
  },
  {
   "cell_type": "markdown",
   "id": "41bb4ce3",
   "metadata": {},
   "source": [
    "### End of Labelcoding"
   ]
  },
  {
   "cell_type": "markdown",
   "id": "3c2a1946",
   "metadata": {},
   "source": [
    "# Decision tree"
   ]
  },
  {
   "cell_type": "markdown",
   "id": "5667a4b6",
   "metadata": {},
   "source": [
    "## Prediction for Service taken"
   ]
  },
  {
   "cell_type": "code",
   "execution_count": 61,
   "id": "a4acbdda",
   "metadata": {},
   "outputs": [],
   "source": [
    "from sklearn.tree import DecisionTreeClassifier"
   ]
  },
  {
   "cell_type": "code",
   "execution_count": 62,
   "id": "c17b61ef",
   "metadata": {},
   "outputs": [],
   "source": [
    "dfs = DecisionTreeClassifier()"
   ]
  },
  {
   "cell_type": "code",
   "execution_count": 63,
   "id": "c6ac6cd5",
   "metadata": {},
   "outputs": [
    {
     "data": {
      "text/plain": [
       "DecisionTreeClassifier()"
      ]
     },
     "execution_count": 63,
     "metadata": {},
     "output_type": "execute_result"
    }
   ],
   "source": [
    "dfs.fit(X.iloc[:,0:3],y)"
   ]
  },
  {
   "cell_type": "code",
   "execution_count": 64,
   "id": "fa74fa52",
   "metadata": {},
   "outputs": [],
   "source": [
    "xinput = np.array([2,1,2])"
   ]
  },
  {
   "cell_type": "code",
   "execution_count": 65,
   "id": "6c6f79c0",
   "metadata": {},
   "outputs": [],
   "source": [
    "y_predict = dfs.predict([xinput])"
   ]
  },
  {
   "cell_type": "code",
   "execution_count": 66,
   "id": "04301c4f",
   "metadata": {
    "scrolled": true
   },
   "outputs": [
    {
     "data": {
      "text/plain": [
       "array(['No'], dtype=object)"
      ]
     },
     "execution_count": 66,
     "metadata": {},
     "output_type": "execute_result"
    }
   ],
   "source": [
    "y_predict"
   ]
  },
  {
   "cell_type": "markdown",
   "id": "25af2ef0",
   "metadata": {},
   "source": [
    "### End of Service taken"
   ]
  },
  {
   "cell_type": "markdown",
   "id": "a51af4b0",
   "metadata": {},
   "source": [
    "# Prediction for Impact On Doctor Healthcare"
   ]
  },
  {
   "cell_type": "code",
   "execution_count": 67,
   "id": "ab62bf4e",
   "metadata": {},
   "outputs": [
    {
     "data": {
      "text/plain": [
       "DecisionTreeClassifier()"
      ]
     },
     "execution_count": 67,
     "metadata": {},
     "output_type": "execute_result"
    }
   ],
   "source": [
    "dfs.fit(X.iloc[:,0:3],z)"
   ]
  },
  {
   "cell_type": "code",
   "execution_count": 68,
   "id": "6cfa015e",
   "metadata": {},
   "outputs": [],
   "source": [
    "Impact_On_Heathcare = np.array([2,1,2])"
   ]
  },
  {
   "cell_type": "code",
   "execution_count": 69,
   "id": "e24813d5",
   "metadata": {},
   "outputs": [],
   "source": [
    "z_predict = dfs.predict([Impact_On_Heathcare])"
   ]
  },
  {
   "cell_type": "code",
   "execution_count": 70,
   "id": "4c0d5e01",
   "metadata": {},
   "outputs": [
    {
     "data": {
      "text/plain": [
       "array(['Yes'], dtype=object)"
      ]
     },
     "execution_count": 70,
     "metadata": {},
     "output_type": "execute_result"
    }
   ],
   "source": [
    "z_predict"
   ]
  },
  {
   "cell_type": "markdown",
   "id": "daab287b",
   "metadata": {},
   "source": [
    "### End of prediction for Impact On Doctor Healthcare"
   ]
  },
  {
   "cell_type": "markdown",
   "id": "4ec98cc6",
   "metadata": {},
   "source": [
    "## Accuracy for Decision tree"
   ]
  },
  {
   "cell_type": "markdown",
   "id": "c97cce07",
   "metadata": {},
   "source": [
    "## Accuracy of Decision tree algo for Service taken"
   ]
  },
  {
   "cell_type": "code",
   "execution_count": 71,
   "id": "d116844b",
   "metadata": {},
   "outputs": [],
   "source": [
    "X_train,X_test,y_train,y_test = train_test_split(X,y,test_size = .3, random_state=25)"
   ]
  },
  {
   "cell_type": "code",
   "execution_count": 72,
   "id": "15584e3c",
   "metadata": {},
   "outputs": [],
   "source": [
    "from sklearn.metrics import confusion_matrix\n",
    "import sklearn.metrics as metrics"
   ]
  },
  {
   "cell_type": "code",
   "execution_count": 73,
   "id": "e28a22f8",
   "metadata": {},
   "outputs": [
    {
     "name": "stdout",
     "output_type": "stream",
     "text": [
      "Accuracy: 0.8125\n"
     ]
    }
   ],
   "source": [
    "dtree_model = DecisionTreeClassifier(max_depth = 2).fit(X_train, y_train) \n",
    "dtree_predictions = dtree_model.predict(X_test) \n",
    "### creating a confusion matrix \n",
    "cm = confusion_matrix(y_test, dtree_predictions) \n",
    "print(\"Accuracy:\",metrics.accuracy_score(y_test, dtree_predictions))"
   ]
  },
  {
   "cell_type": "markdown",
   "id": "2dbc4f87",
   "metadata": {},
   "source": [
    "## Accuracy of Decision tree algo for Impact On Doctor Healthcare"
   ]
  },
  {
   "cell_type": "code",
   "execution_count": 74,
   "id": "23e27e67",
   "metadata": {},
   "outputs": [],
   "source": [
    "X_train,X_test,z_train,z_test = train_test_split(X,z,test_size = .3, random_state=25)"
   ]
  },
  {
   "cell_type": "code",
   "execution_count": 75,
   "id": "bc2e280e",
   "metadata": {},
   "outputs": [
    {
     "name": "stdout",
     "output_type": "stream",
     "text": [
      "Accuracy: 1.0\n"
     ]
    }
   ],
   "source": [
    "dtree_model = DecisionTreeClassifier(max_depth = 2).fit(X_train, z_train) \n",
    "dtree_predictions = dtree_model.predict(X_test) \n",
    "### creating a confusion matrix \n",
    "cm = confusion_matrix(y_test, dtree_predictions) \n",
    "print(\"Accuracy:\",metrics.accuracy_score(z_test, dtree_predictions))"
   ]
  },
  {
   "cell_type": "markdown",
   "id": "17c9c273",
   "metadata": {},
   "source": [
    "### End of Decision tree"
   ]
  },
  {
   "cell_type": "markdown",
   "id": "9ec4c471",
   "metadata": {},
   "source": [
    "## Some more data processing "
   ]
  },
  {
   "cell_type": "code",
   "execution_count": 76,
   "id": "53a1018b",
   "metadata": {},
   "outputs": [],
   "source": [
    "dfk = df.apply(LabelEncoder().fit_transform)"
   ]
  },
  {
   "cell_type": "code",
   "execution_count": 77,
   "id": "147a77b7",
   "metadata": {},
   "outputs": [
    {
     "data": {
      "text/html": [
       "<div>\n",
       "<style scoped>\n",
       "    .dataframe tbody tr th:only-of-type {\n",
       "        vertical-align: middle;\n",
       "    }\n",
       "\n",
       "    .dataframe tbody tr th {\n",
       "        vertical-align: top;\n",
       "    }\n",
       "\n",
       "    .dataframe thead th {\n",
       "        text-align: right;\n",
       "    }\n",
       "</style>\n",
       "<table border=\"1\" class=\"dataframe\">\n",
       "  <thead>\n",
       "    <tr style=\"text-align: right;\">\n",
       "      <th></th>\n",
       "      <th>Gender</th>\n",
       "      <th>Age</th>\n",
       "      <th>Familiarity</th>\n",
       "      <th>Service taken</th>\n",
       "      <th>Impact On Doctor Healthcare</th>\n",
       "    </tr>\n",
       "  </thead>\n",
       "  <tbody>\n",
       "    <tr>\n",
       "      <th>1</th>\n",
       "      <td>1</td>\n",
       "      <td>0</td>\n",
       "      <td>1</td>\n",
       "      <td>0</td>\n",
       "      <td>1</td>\n",
       "    </tr>\n",
       "    <tr>\n",
       "      <th>2</th>\n",
       "      <td>0</td>\n",
       "      <td>0</td>\n",
       "      <td>1</td>\n",
       "      <td>0</td>\n",
       "      <td>1</td>\n",
       "    </tr>\n",
       "    <tr>\n",
       "      <th>3</th>\n",
       "      <td>1</td>\n",
       "      <td>0</td>\n",
       "      <td>1</td>\n",
       "      <td>0</td>\n",
       "      <td>1</td>\n",
       "    </tr>\n",
       "    <tr>\n",
       "      <th>4</th>\n",
       "      <td>1</td>\n",
       "      <td>2</td>\n",
       "      <td>0</td>\n",
       "      <td>1</td>\n",
       "      <td>1</td>\n",
       "    </tr>\n",
       "    <tr>\n",
       "      <th>5</th>\n",
       "      <td>1</td>\n",
       "      <td>0</td>\n",
       "      <td>1</td>\n",
       "      <td>1</td>\n",
       "      <td>1</td>\n",
       "    </tr>\n",
       "    <tr>\n",
       "      <th>...</th>\n",
       "      <td>...</td>\n",
       "      <td>...</td>\n",
       "      <td>...</td>\n",
       "      <td>...</td>\n",
       "      <td>...</td>\n",
       "    </tr>\n",
       "    <tr>\n",
       "      <th>101</th>\n",
       "      <td>1</td>\n",
       "      <td>1</td>\n",
       "      <td>1</td>\n",
       "      <td>0</td>\n",
       "      <td>1</td>\n",
       "    </tr>\n",
       "    <tr>\n",
       "      <th>102</th>\n",
       "      <td>1</td>\n",
       "      <td>0</td>\n",
       "      <td>0</td>\n",
       "      <td>0</td>\n",
       "      <td>1</td>\n",
       "    </tr>\n",
       "    <tr>\n",
       "      <th>103</th>\n",
       "      <td>1</td>\n",
       "      <td>0</td>\n",
       "      <td>1</td>\n",
       "      <td>0</td>\n",
       "      <td>1</td>\n",
       "    </tr>\n",
       "    <tr>\n",
       "      <th>104</th>\n",
       "      <td>1</td>\n",
       "      <td>1</td>\n",
       "      <td>1</td>\n",
       "      <td>0</td>\n",
       "      <td>1</td>\n",
       "    </tr>\n",
       "    <tr>\n",
       "      <th>105</th>\n",
       "      <td>1</td>\n",
       "      <td>0</td>\n",
       "      <td>0</td>\n",
       "      <td>0</td>\n",
       "      <td>1</td>\n",
       "    </tr>\n",
       "  </tbody>\n",
       "</table>\n",
       "<p>105 rows × 5 columns</p>\n",
       "</div>"
      ],
      "text/plain": [
       "     Gender  Age  Familiarity  Service taken  Impact On Doctor Healthcare\n",
       "1         1    0            1              0                            1\n",
       "2         0    0            1              0                            1\n",
       "3         1    0            1              0                            1\n",
       "4         1    2            0              1                            1\n",
       "5         1    0            1              1                            1\n",
       "..      ...  ...          ...            ...                          ...\n",
       "101       1    1            1              0                            1\n",
       "102       1    0            0              0                            1\n",
       "103       1    0            1              0                            1\n",
       "104       1    1            1              0                            1\n",
       "105       1    0            0              0                            1\n",
       "\n",
       "[105 rows x 5 columns]"
      ]
     },
     "execution_count": 77,
     "metadata": {},
     "output_type": "execute_result"
    }
   ],
   "source": [
    "dfk"
   ]
  },
  {
   "cell_type": "code",
   "execution_count": 78,
   "id": "2bdb91a8",
   "metadata": {},
   "outputs": [],
   "source": [
    "m = dfk.iloc[:,3]\n",
    "n = dfk.iloc[:,4]"
   ]
  },
  {
   "cell_type": "code",
   "execution_count": 79,
   "id": "7927bc6b",
   "metadata": {
    "scrolled": true
   },
   "outputs": [
    {
     "data": {
      "text/plain": [
       "1      0\n",
       "2      0\n",
       "3      0\n",
       "4      1\n",
       "5      1\n",
       "      ..\n",
       "101    0\n",
       "102    0\n",
       "103    0\n",
       "104    0\n",
       "105    0\n",
       "Name: Service taken, Length: 105, dtype: int32"
      ]
     },
     "execution_count": 79,
     "metadata": {},
     "output_type": "execute_result"
    }
   ],
   "source": [
    "m"
   ]
  },
  {
   "cell_type": "markdown",
   "id": "e8d12121",
   "metadata": {},
   "source": [
    "# SVM Algorithm"
   ]
  },
  {
   "cell_type": "markdown",
   "id": "46eeb8c3",
   "metadata": {},
   "source": [
    "## Accuracy of SVM for Service taken"
   ]
  },
  {
   "cell_type": "code",
   "execution_count": 80,
   "id": "419e72f8",
   "metadata": {},
   "outputs": [],
   "source": [
    "X_train,X_test,m_train,m_test = train_test_split(X,m,test_size = .3, random_state=25)"
   ]
  },
  {
   "cell_type": "code",
   "execution_count": 81,
   "id": "95a768c3",
   "metadata": {},
   "outputs": [],
   "source": [
    "# training a linear SVM classifier \n",
    "from sklearn.svm import SVC \n",
    "svm_model_linear = SVC(kernel = 'linear', C = 1).fit(X_train, m_train) \n",
    "svm_predictions = svm_model_linear.predict(X_test) \n",
    "# model accuracy for X_test   \n",
    "accuracy = svm_model_linear.score(X_test, m_test) \n",
    "\n"
   ]
  },
  {
   "cell_type": "code",
   "execution_count": 82,
   "id": "d3020ae3",
   "metadata": {},
   "outputs": [
    {
     "name": "stdout",
     "output_type": "stream",
     "text": [
      "Accuracy: 0.8125\n"
     ]
    }
   ],
   "source": [
    "# creating a confusion matrix \n",
    "cm = confusion_matrix(m_test, svm_predictions) \n",
    "print(\"Accuracy:\",metrics.accuracy_score(m_test, svm_predictions))"
   ]
  },
  {
   "cell_type": "markdown",
   "id": "5c705c45",
   "metadata": {},
   "source": [
    "## Accuracy of SVM for Impact On Doctor Healthcare"
   ]
  },
  {
   "cell_type": "code",
   "execution_count": 83,
   "id": "703d06d4",
   "metadata": {},
   "outputs": [],
   "source": [
    "X_train,X_test,n_train,n_test = train_test_split(X,n,test_size = .3, random_state=25)"
   ]
  },
  {
   "cell_type": "code",
   "execution_count": 84,
   "id": "f116855c",
   "metadata": {},
   "outputs": [
    {
     "name": "stdout",
     "output_type": "stream",
     "text": [
      "Accuracy: 1.0\n"
     ]
    }
   ],
   "source": [
    "# training a linear SVM classifier \n",
    "from sklearn.svm import SVC \n",
    "svm_model_linear = SVC(kernel = 'linear', C = 1).fit(X_train, n_train) \n",
    "svm_predictions = svm_model_linear.predict(X_test) \n",
    "# model accuracy for X_test   \n",
    "accuracy = svm_model_linear.score(X_test, n_test) \n",
    "\n",
    "# creating a confusion matrix \n",
    "cm = confusion_matrix(n_test, svm_predictions) \n",
    "print(\"Accuracy:\",metrics.accuracy_score(n_test, svm_predictions))"
   ]
  },
  {
   "cell_type": "markdown",
   "id": "c37565e2",
   "metadata": {},
   "source": [
    "### End of SVM"
   ]
  },
  {
   "cell_type": "markdown",
   "id": "de043f23",
   "metadata": {},
   "source": [
    "# KNN ALgorithm"
   ]
  },
  {
   "cell_type": "markdown",
   "id": "542039de",
   "metadata": {},
   "source": [
    "## Accuracy of KNN for Service taken"
   ]
  },
  {
   "cell_type": "code",
   "execution_count": 85,
   "id": "15326980",
   "metadata": {},
   "outputs": [
    {
     "name": "stdout",
     "output_type": "stream",
     "text": [
      "Accuracy: 0.53125\n"
     ]
    }
   ],
   "source": [
    "### training a KNN classifier \n",
    "from sklearn.neighbors import KNeighborsClassifier \n",
    "knn = KNeighborsClassifier(n_neighbors = 3).fit(X_train, m_train) \n",
    "### accuracy on X_test \n",
    "accuracy = knn.score(X_test, m_test) \n",
    "### creating a confusion matrix \n",
    "knn_predictions = knn.predict(X_test)  \n",
    "cm = confusion_matrix(m_test, knn_predictions) \n",
    "print(\"Accuracy:\",metrics.accuracy_score(m_test, knn_predictions))"
   ]
  },
  {
   "cell_type": "markdown",
   "id": "40931045",
   "metadata": {},
   "source": [
    "## Accuracy of KNN for Impact On Doctor Healthcare"
   ]
  },
  {
   "cell_type": "code",
   "execution_count": 86,
   "id": "4b0d36bf",
   "metadata": {},
   "outputs": [
    {
     "name": "stdout",
     "output_type": "stream",
     "text": [
      "Accuracy: 1.0\n"
     ]
    }
   ],
   "source": [
    "knn = KNeighborsClassifier(n_neighbors = 3).fit(X_train,n_train) \n",
    "### accuracy on X_test \n",
    "accuracy = knn.score(X_test, n_test) \n",
    "### creating a confusion matrix \n",
    "knn_predictions = knn.predict(X_test)  \n",
    "cm = confusion_matrix(n_test, knn_predictions) \n",
    "print(\"Accuracy:\",metrics.accuracy_score(n_test, knn_predictions))"
   ]
  },
  {
   "cell_type": "markdown",
   "id": "c269fd88",
   "metadata": {},
   "source": [
    "### End of KNN"
   ]
  }
 ],
 "metadata": {
  "kernelspec": {
   "display_name": "Python 3",
   "language": "python",
   "name": "python3"
  },
  "language_info": {
   "codemirror_mode": {
    "name": "ipython",
    "version": 3
   },
   "file_extension": ".py",
   "mimetype": "text/x-python",
   "name": "python",
   "nbconvert_exporter": "python",
   "pygments_lexer": "ipython3",
   "version": "3.8.8"
  }
 },
 "nbformat": 4,
 "nbformat_minor": 5
}
